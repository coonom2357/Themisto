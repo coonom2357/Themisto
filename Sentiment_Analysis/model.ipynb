{
 "cells": [
  {
   "cell_type": "code",
   "execution_count": 14,
   "id": "c35176ab",
   "metadata": {},
   "outputs": [],
   "source": [
    "import numpy as np\n",
    "import pandas as pd\n",
    "import kagglehub\n",
    "from PIL import Image\n",
    "import os\n",
    "from itertools import islice\n",
    "from sklearn.preprocessing import MinMaxScaler\n",
    "from sklearn.model_selection import train_test_split\n",
    "import torch\n",
    "from torchvision.io import decode_image\n",
    "from torch.utils.data import Dataset\n",
    "from Image_Processing import CustomImageDataset, find_jpg_files, generate_dataframe\n",
    "import torchvision.models as models\n",
    "import torch.nn as nn\n",
    "import torch.optim as optim\n",
    "\n",
    "path = kagglehub.dataset_download(\"fahadullaha/facial-emotion-recognition-dataset\")\n",
    "SEARCH_ROOT_DIR = f\"{path}/processed_data/\"\n",
    "fpath = find_jpg_files(SEARCH_ROOT_DIR)\n",
    "df = generate_dataframe(fpath)"
   ]
  },
  {
   "cell_type": "code",
   "execution_count": 19,
   "id": "1eb877b2",
   "metadata": {},
   "outputs": [],
   "source": [
    "# Reload the Image_Processing module to get the latest changes\n",
    "import importlib\n",
    "import Image_Processing\n",
    "importlib.reload(Image_Processing)\n",
    "from Image_Processing import CustomImageDataset, find_jpg_files, generate_dataframe"
   ]
  },
  {
   "cell_type": "code",
   "execution_count": 20,
   "id": "8c317fa6",
   "metadata": {},
   "outputs": [],
   "source": [
    "train_df, test_df = train_test_split(df, test_size=0.2, random_state=42, )\n",
    "# Save the split dataframes to CSV files for CustomImageDataset\n",
    "train_df.to_csv(\"train_annotations.csv\", index=False)\n",
    "test_df.to_csv(\"test_annotations.csv\", index=False)\n",
    "\n",
    "# Create Dataset objects using your CustomImageDataset class\n",
    "train_dataset = CustomImageDataset(\"train_annotations.csv\", SEARCH_ROOT_DIR)\n",
    "test_dataset = CustomImageDataset(\"test_annotations.csv\", SEARCH_ROOT_DIR)\n",
    "\n",
    "# Create DataLoaders from the Dataset objects\n",
    "train_loader = torch.utils.data.DataLoader(\n",
    "    train_dataset,  # Use the Dataset object, not the DataFrame\n",
    "    batch_size=64,  # number of samples loaded per batch\n",
    "    shuffle=True,   # randomize the order of samples\n",
    "    num_workers=2   # number of processes used to load data\n",
    ")\n",
    "\n",
    "test_loader = torch.utils.data.DataLoader(\n",
    "    test_dataset,   # Use the Dataset object, not the DataFrame\n",
    "    batch_size=64,\n",
    "    shuffle=False,\n",
    "    num_workers=2\n",
    ")"
   ]
  },
  {
   "cell_type": "code",
   "execution_count": 21,
   "id": "c6eb0f62",
   "metadata": {},
   "outputs": [],
   "source": [
    "import torch.optim as optim\n",
    "resnet_model = models.resnet18(weights=None)\n",
    "resnet_model.fc = nn.Linear(resnet_model.fc.in_features, 5)\n",
    "loss_function = nn.CrossEntropyLoss()\n",
    "optimizer = optim.Adam(resnet_model.parameters(), lr=0.001) # lr: learning rate affects how quickly the model adjusts parameters\n",
    "     "
   ]
  },
  {
   "cell_type": "code",
   "execution_count": null,
   "id": "2064ddaa",
   "metadata": {},
   "outputs": [],
   "source": [
    "running_loss = 0.0\n",
    "for i, (images, labels) in enumerate(train_loader): \n",
    "    outputs = resnet_model(images)        # get model predictions for this batch of images\n",
    "    loss = loss_function(outputs, labels) # calculate loss\n",
    "\n",
    "    # Track running loss on training data\n",
    "    print(f\"[Batch {i+1:5d}] training loss: {loss.item():.4f}\")\n",
    "\n",
    "    loss.backward()                       # compute gradients for each weight (how each weight should change to minimize loss)\n",
    "    optimizer.step()                      # update model weights\n",
    "    \n",
    "    optimizer.zero_grad()                 # reset gradients from the previous batch\n",
    "\n",
    "print(\"Finished Training\")"
   ]
  }
 ],
 "metadata": {
  "kernelspec": {
   "display_name": ".venv",
   "language": "python",
   "name": "python3"
  },
  "language_info": {
   "codemirror_mode": {
    "name": "ipython",
    "version": 3
   },
   "file_extension": ".py",
   "mimetype": "text/x-python",
   "name": "python",
   "nbconvert_exporter": "python",
   "pygments_lexer": "ipython3",
   "version": "3.13.9"
  }
 },
 "nbformat": 4,
 "nbformat_minor": 5
}
